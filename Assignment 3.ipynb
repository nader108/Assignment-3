{
 "cells": [
  {
   "cell_type": "markdown",
   "metadata": {},
   "source": [
    "# Assignment 3"
   ]
  },
  {
   "cell_type": "markdown",
   "metadata": {},
   "source": [
    "### Write a function to count the number 4 in a given list."
   ]
  },
  {
   "cell_type": "code",
   "execution_count": 5,
   "metadata": {},
   "outputs": [
    {
     "name": "stdout",
     "output_type": "stream",
     "text": [
      "1\n",
      "3\n"
     ]
    }
   ],
   "source": [
    "def L_C4(list) :\n",
    "    count = 0 \n",
    "    for i in list:\n",
    "        if i == 4 :\n",
    "            count = 1+count \n",
    "    return count\n",
    "\n",
    "print(L_C4([4,5,2]))\n",
    "print(L_C4([4,5,2,4,2,4]))"
   ]
  },
  {
   "cell_type": "markdown",
   "metadata": {},
   "source": [
    "### write a  function to check whether a number is divisible by another number."
   ]
  },
  {
   "cell_type": "code",
   "execution_count": 11,
   "metadata": {},
   "outputs": [
    {
     "name": "stdout",
     "output_type": "stream",
     "text": [
      "True\n",
      "False\n"
     ]
    }
   ],
   "source": [
    "def multiple(m, n):\n",
    "    if m % n == 0:\n",
    "        return True \n",
    "    else :\n",
    "        return False\n",
    "\n",
    "print(multiple(20, 5))\n",
    "print(multiple(7, 2))"
   ]
  },
  {
   "cell_type": "markdown",
   "metadata": {},
   "source": [
    "### write a function to find the maximum and minimum numbers from a sequence of numbers."
   ]
  },
  {
   "cell_type": "code",
   "execution_count": 28,
   "metadata": {},
   "outputs": [
    {
     "name": "stdout",
     "output_type": "stream",
     "text": [
      "(100, -9)\n"
     ]
    }
   ],
   "source": [
    "\n",
    "def max_min(nums):\n",
    "    min_value = max_value = nums[0]\n",
    "\n",
    "    for num in nums:\n",
    "        if num < min_value:\n",
    "            min_value = num\n",
    "\n",
    "\n",
    "        elif num > max_value:\n",
    "            max_value = num\n",
    "\n",
    "    return max_value , min_value\n",
    "\n",
    "\n",
    "print(max_min([1, 3, 5, 9, 14, 15, 20, 30, 100, -9, 0]))\n",
    "\n"
   ]
  },
  {
   "cell_type": "markdown",
   "metadata": {},
   "source": [
    "### Write a Python function that takes two lists and returns True if they have at least one common member."
   ]
  },
  {
   "cell_type": "code",
   "execution_count": 34,
   "metadata": {},
   "outputs": [
    {
     "name": "stdout",
     "output_type": "stream",
     "text": [
      "True\n",
      "None\n"
     ]
    }
   ],
   "source": [
    "def tow_list(x,y):\n",
    "    result = False\n",
    "    for i in x :\n",
    "        for j in y :\n",
    "            if i ==j :\n",
    "                result = True\n",
    "                return result\n",
    "\n",
    "\n",
    "print(tow_list([1,2,3,4,5],[5,6,7,8]))\n",
    "print(tow_list([1,2,3,4,5],[6,7,8]))"
   ]
  },
  {
   "cell_type": "markdown",
   "metadata": {},
   "source": [
    "### Write a Python function to calculate the factorial of a number (a non-negative integer). The function accepts the number from the user"
   ]
  },
  {
   "cell_type": "code",
   "execution_count": 36,
   "metadata": {},
   "outputs": [
    {
     "name": "stdout",
     "output_type": "stream",
     "text": [
      "4\n",
      "24\n"
     ]
    }
   ],
   "source": [
    "def fac(x):\n",
    "    if x == 0:\n",
    "        return 1\n",
    "    else:\n",
    "        return x*fac(x-1)\n",
    "\n",
    "\n",
    "\n",
    "print(fac(int(input())))\n"
   ]
  },
  {
   "cell_type": "markdown",
   "metadata": {},
   "source": [
    "### Write a Python function to check whether a number is in a given range.\n",
    "\n",
    "### The range is from 3 to 11\n"
   ]
  },
  {
   "cell_type": "code",
   "execution_count": 37,
   "metadata": {
    "scrolled": true
   },
   "outputs": [
    {
     "name": "stdout",
     "output_type": "stream",
     "text": [
      "6\n",
      "True\n"
     ]
    }
   ],
   "source": [
    "\n",
    "x =int(input())\n",
    "def ran(x):\n",
    "    if x in range(3,12):\n",
    "        return True\n",
    "    else:\n",
    "        return False\n",
    "\n",
    "print(ran(x))"
   ]
  },
  {
   "cell_type": "markdown",
   "metadata": {},
   "source": [
    "### Write a  program to create the multiplication table (from 1 to 10) of a number."
   ]
  },
  {
   "cell_type": "code",
   "execution_count": 39,
   "metadata": {},
   "outputs": [
    {
     "name": "stdout",
     "output_type": "stream",
     "text": [
      "input the num : 2\n",
      "2 x 1 = 2\n",
      "2 x 2 = 4\n",
      "2 x 3 = 6\n",
      "2 x 4 = 8\n",
      "2 x 5 = 10\n",
      "2 x 6 = 12\n",
      "2 x 7 = 14\n",
      "2 x 8 = 16\n",
      "2 x 9 = 18\n",
      "2 x 10 = 20\n"
     ]
    }
   ],
   "source": [
    "n = int(input(\"input the num : \"))\n",
    "\n",
    "for i in range(1,11):\n",
    "    \n",
    "    print(n,\"x\", i ,\"=\", n*i)\n",
    "    "
   ]
  },
  {
   "cell_type": "markdown",
   "metadata": {},
   "source": [
    "#### LESSER OF TWO EVENS: Write a function that returns the lesser of two given numbers *if* both numbers are even, but returns the greater if one or both numbers are odd\n",
    "    lesser_of_two_evens(2,4) --> 2\n",
    "    lesser_of_two_evens(2,5) --> 5"
   ]
  },
  {
   "cell_type": "code",
   "execution_count": 46,
   "metadata": {},
   "outputs": [
    {
     "data": {
      "text/plain": [
       "4"
      ]
     },
     "execution_count": 46,
     "metadata": {},
     "output_type": "execute_result"
    }
   ],
   "source": [
    "def lesser_of_two_evens(a,b):\n",
    "     if (a%2==0 and b%2==0):\n",
    "         if (a>b):\n",
    "             return b\n",
    "         else:\n",
    "             return a\n",
    "     else:\n",
    "         if (a>b):\n",
    "             return a\n",
    "         else:\n",
    "             return b\n",
    "\n",
    "lesser_of_two_evens(6,4)"
   ]
  },
  {
   "cell_type": "markdown",
   "metadata": {},
   "source": [
    "#### ANIMAL CRACKERS: Write a function takes a two-word string and returns True if both words begin with same letter\n",
    "    animal_crackers('Levelheaded Llama') --> True\n",
    "    animal_crackers('Crazy Kangaroo') --> False"
   ]
  },
  {
   "cell_type": "code",
   "execution_count": 44,
   "metadata": {},
   "outputs": [
    {
     "name": "stdout",
     "output_type": "stream",
     "text": [
      "True\n",
      "None\n",
      "False\n",
      "None\n"
     ]
    }
   ],
   "source": [
    "def animal_crackers(string):\n",
    "    s1, s2 = string.split(\" \")\n",
    "    print(s1[0].upper() == s2[0].upper())\n",
    "\n",
    "print(animal_crackers(\"levelheaded lama\"))\n",
    "print(animal_crackers(\"levelheaded ama\"))"
   ]
  },
  {
   "cell_type": "markdown",
   "metadata": {},
   "source": [
    "#### MAKES TWENTY: Given two integers, return True if the sum of the integers is 20 *or* if one of the integers is 20. If not, return False\n",
    "\n",
    "    makes_twenty(20,10) --> True\n",
    "    makes_twenty(12,8) --> True\n",
    "    makes_twenty(2,3) --> False"
   ]
  },
  {
   "cell_type": "code",
   "execution_count": 50,
   "metadata": {},
   "outputs": [
    {
     "name": "stdout",
     "output_type": "stream",
     "text": [
      "True\n",
      "True\n",
      "False\n"
     ]
    }
   ],
   "source": [
    "def makes_twenty(n1,n2):\n",
    "    if (n1==20 or n2==20 or (n1+n2)==20):\n",
    "        return True\n",
    "    else:\n",
    "        return False\n",
    "print(makes_twenty(20,10))\n",
    "print(makes_twenty(12,8))\n",
    "print(makes_twenty(2,3))"
   ]
  },
  {
   "cell_type": "markdown",
   "metadata": {},
   "source": [
    "#### ALMOST THERE: Given an integer n, return True if n is within 10 of either 100 or 200\n",
    "\n",
    "    almost_there(90) --> True\n",
    "    almost_there(104) --> True\n",
    "    almost_there(150) --> False\n",
    "    almost_there(209) --> True\n",
    "    \n",
    "NOTE: `abs(num)` returns the absolute value of a number"
   ]
  },
  {
   "cell_type": "code",
   "execution_count": 52,
   "metadata": {},
   "outputs": [
    {
     "name": "stdout",
     "output_type": "stream",
     "text": [
      "True\n"
     ]
    }
   ],
   "source": [
    "def almost_there(n):\n",
    "    return 90 <= n <= 110 or 190 <= n <= 210\n",
    "print(almost_there(90))"
   ]
  },
  {
   "cell_type": "markdown",
   "metadata": {},
   "source": [
    "#### BLACKJACK: Given three integers between 1 and 11, if their sum is less than or equal to 21, return their sum. If their sum exceeds 21 *and* there's an eleven, reduce the total sum by 10. Finally, if the sum  exceeds 21, return 'BUST'\n",
    "    blackjack(5,6,7) --> 18\n",
    "    blackjack(9,9,9) --> 'BUST'\n",
    "    blackjack(9,9,11) --> 19"
   ]
  },
  {
   "cell_type": "code",
   "execution_count": 57,
   "metadata": {},
   "outputs": [
    {
     "name": "stdout",
     "output_type": "stream",
     "text": [
      "18\n",
      "Bust\n",
      "19\n"
     ]
    }
   ],
   "source": [
    "def blackjack(a,b,c):  \n",
    "    total = a+b+c\n",
    "    if total <= 21:     \n",
    "        return total\n",
    "    elif 11 in [a,b,c] and total > 21:   \n",
    "        new_total = total-10     \n",
    "        if new_total > 21:    \n",
    "            return 'Bust' \n",
    "        else:         \n",
    "            return new_total   \n",
    "    else: \n",
    "        return 'Bust'\n",
    "    \n",
    "print(blackjack(5,6,7))\n",
    "print(blackjack(9,9,9))\n",
    "print(blackjack(9,9,11))"
   ]
  }
 ],
 "metadata": {
  "kernelspec": {
   "display_name": "Python 3",
   "language": "python",
   "name": "python3"
  },
  "language_info": {
   "codemirror_mode": {
    "name": "ipython",
    "version": 3
   },
   "file_extension": ".py",
   "mimetype": "text/x-python",
   "name": "python",
   "nbconvert_exporter": "python",
   "pygments_lexer": "ipython3",
   "version": "3.8.8"
  }
 },
 "nbformat": 4,
 "nbformat_minor": 2
}
